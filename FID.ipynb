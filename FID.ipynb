{
 "cells": [
  {
   "cell_type": "code",
   "execution_count": null,
   "metadata": {},
   "outputs": [],
   "source": [
    "PATH = \"/home/xchen/GANs/WGAN-div-PyTorch-/samples/1204_mnist_matsumoto_1/\"\n",
    "fid='python3 -m pytorch_fid'"
   ]
  },
  {
   "cell_type": "code",
   "execution_count": null,
   "metadata": {},
   "outputs": [],
   "source": [
    "import subprocess\n",
    "import shlex\n",
    "\n",
    "dict = {}\n",
    "\n",
    "for i in range(0, 300, 100):\n",
    "\n",
    "    real_path = ' ' + PATH + str(i) + '/real_images'\n",
    "    fake_path = ' ' + PATH + str(i) + '/fake_images'\n",
    "\n",
    "    command_line = fid + real_path + fake_path\n",
    "\n",
    "    args = shlex.split(command_line)\n",
    "\n",
    "    res = subprocess.run(args, shell=False, stdout=subprocess.PIPE, text=True)\n",
    "    \n",
    "    dict[i] = res.stdout"
   ]
  },
  {
   "cell_type": "code",
   "execution_count": null,
   "metadata": {},
   "outputs": [],
   "source": [
    "import json \n",
    "import pprint\n",
    "\n",
    "with open('reslut.log', \"w\") as tf:\n",
    "    # tf.write(json.dumps(dict, sort_keys=True, indent=4))\n",
    "\n",
    "    print('\\n')\n",
    "\n",
    "    pprint.pprint(sorted(dict.items(), key=lambda kv:kv[1]), stream=tf)\n",
    "    # print(sorted(dict.items(), key=lambda kv:kv[1]), file=tf)\n"
   ]
  }
 ],
 "metadata": {
  "interpreter": {
   "hash": "74a93dc98ce132c7712e91561fec933a3a7586bb1208e240d679dc2b0a82ea21"
  },
  "kernelspec": {
   "display_name": "Python 3.7.10 64-bit ('base': conda)",
   "language": "python",
   "name": "python3"
  },
  "language_info": {
   "codemirror_mode": {
    "name": "ipython",
    "version": 3
   },
   "file_extension": ".py",
   "mimetype": "text/x-python",
   "name": "python",
   "nbconvert_exporter": "python",
   "pygments_lexer": "ipython3",
   "version": "3.7.10"
  },
  "orig_nbformat": 4
 },
 "nbformat": 4,
 "nbformat_minor": 2
}

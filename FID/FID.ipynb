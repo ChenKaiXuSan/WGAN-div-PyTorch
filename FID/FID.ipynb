{
 "cells": [
  {
   "cell_type": "code",
   "execution_count": 2,
   "metadata": {},
   "outputs": [],
   "source": [
    "PATH = \"/home/xchen/GANs/WGAN-div-PyTorch-/samples/1204_mnist_matsumoto_1/\"\n",
    "FILE_NAME = \"1204_mnist_matsumoto_1\""
   ]
  },
  {
   "cell_type": "code",
   "execution_count": 11,
   "metadata": {},
   "outputs": [
    {
     "name": "stdout",
     "output_type": "stream",
     "text": [
      "9900\n"
     ]
    }
   ],
   "source": [
    "import os\n",
    "\n",
    "list = os.listdir(PATH)\n",
    "list.sort(key=lambda fn: os.path.getmtime(PATH+fn) if not os.path.isdir(PATH+fn) else 0)\n",
    "print(list[-1])"
   ]
  },
  {
   "cell_type": "code",
   "execution_count": 24,
   "metadata": {},
   "outputs": [],
   "source": [
    "def fid_all_list(filePath, fid_dict={}):\n",
    "    fid = 'python3 -m pytorch_fid'\n",
    "\n",
    "    for i in os.listdir(filePath):\n",
    "        PATH_with_FILE = os.path.join(filePath, i)\n",
    "        FILE_NAME = i\n",
    "\n",
    "        file_list = os.listdir(PATH_with_FILE)\n",
    "        file_list.sort(key=lambda fn: os.path.getmtime(os.path.join(PATH_with_FILE,fn)) if not os.path.isdir(os.path.join(PATH_with_FILE,fn)) else 0)\n",
    "        max_value = int(file_list[-1]) + 1\n",
    "\n",
    "        # start FID calc\n",
    "        for i in range(0, max_value, 100):\n",
    "\n",
    "            real_path = ' ' + os.path.join(PATH_with_FILE, str(i)) + '/real_images'\n",
    "            fake_path = ' ' + os.path.join(PATH_with_FILE, str(i)) + '/fake_images'\n",
    "\n",
    "            command_line = fid + real_path + fake_path\n",
    "\n",
    "            args = shlex.split(command_line)\n",
    "\n",
    "            res = subprocess.run(args, shell=False, stdout=subprocess.PIPE, text=True)\n",
    "\n",
    "            fid_dict[i] = float(res.stdout[6:-1])\n",
    "\n",
    "    with open(FILE_NAME +'.log', \"w\") as tf:\n",
    "\n",
    "        print(PATH_with_FILE + '\\n', file=tf)\n",
    "\n",
    "        pprint.pprint(sorted(fid_dict.items(), key=lambda kv:kv[1]), stream=tf)\n",
    "            "
   ]
  },
  {
   "cell_type": "code",
   "execution_count": 32,
   "metadata": {},
   "outputs": [],
   "source": [
    "def fid_one_list(filePath, fileNAME, fid_dict={}):\n",
    "    fid = 'python3 -m pytorch_fid'\n",
    "\n",
    "    PATH_with_FILE = os.path.join(filePath, fileNAME)\n",
    "\n",
    "    file_list = os.listdir(PATH_with_FILE)\n",
    "    file_list.sort(key=lambda fn: os.path.getmtime(os.path.join(PATH_with_FILE,fn)) if not os.path.isdir(os.path.join(PATH_with_FILE,fn)) else 0)\n",
    "    max_value = int(file_list[-1]) + 1\n",
    "\n",
    "    # start FID calc \n",
    "    for i in range(0, max_value, 100):\n",
    "\n",
    "        real_path = ' ' + os.path.join(PATH_with_FILE, str(i)) + '/real_images'\n",
    "        fake_path = ' ' + os.path.join(PATH_with_FILE, str(i)) + '/fake_images'\n",
    "\n",
    "        command_line = fid + real_path + fake_path\n",
    "\n",
    "        # split command line \n",
    "        args = shlex.split(command_line)\n",
    "\n",
    "        res = subprocess.run(args, shell=False, stdout=subprocess.PIPE, text=True)\n",
    "\n",
    "        fid_dict[i] = float(res.stdout[6:-1])\n",
    "\n",
    "    with open(fileNAME + '.log', 'w') as tf:\n",
    "\n",
    "        print(PATH_with_FILE + '\\n', file=tf)\n",
    "\n",
    "        pprint.pprint(sorted(fid_dict.items(), key=lambda kv:kv[1]), stream=tf)"
   ]
  },
  {
   "cell_type": "code",
   "execution_count": 33,
   "metadata": {},
   "outputs": [
    {
     "name": "stderr",
     "output_type": "stream",
     "text": [
      "  0%|          | 0/202 [00:00<?, ?it/s]/home/xchen/anaconda3/lib/python3.7/site-packages/torch/nn/functional.py:718: UserWarning: Named tensors and all their associated APIs are an experimental feature and subject to change. Please do not use them for anything important until they are released as stable. (Triggered internally at  /pytorch/c10/core/TensorImpl.h:1156.)\n",
      "  return torch.max_pool2d(input, kernel_size, stride, padding, dilation, ceil_mode)\n",
      "100%|██████████| 202/202 [00:11<00:00, 17.41it/s]\n",
      "100%|██████████| 202/202 [00:11<00:00, 17.47it/s]\n",
      "  0%|          | 0/202 [00:00<?, ?it/s]/home/xchen/anaconda3/lib/python3.7/site-packages/torch/nn/functional.py:718: UserWarning: Named tensors and all their associated APIs are an experimental feature and subject to change. Please do not use them for anything important until they are released as stable. (Triggered internally at  /pytorch/c10/core/TensorImpl.h:1156.)\n",
      "  return torch.max_pool2d(input, kernel_size, stride, padding, dilation, ceil_mode)\n",
      "100%|██████████| 202/202 [00:11<00:00, 17.59it/s]\n",
      "100%|██████████| 202/202 [00:11<00:00, 17.49it/s]\n",
      "  0%|          | 0/202 [00:00<?, ?it/s]/home/xchen/anaconda3/lib/python3.7/site-packages/torch/nn/functional.py:718: UserWarning: Named tensors and all their associated APIs are an experimental feature and subject to change. Please do not use them for anything important until they are released as stable. (Triggered internally at  /pytorch/c10/core/TensorImpl.h:1156.)\n",
      "  return torch.max_pool2d(input, kernel_size, stride, padding, dilation, ceil_mode)\n",
      "100%|██████████| 202/202 [00:11<00:00, 17.54it/s]\n",
      "100%|██████████| 202/202 [00:11<00:00, 17.48it/s]\n"
     ]
    }
   ],
   "source": [
    "import os \n",
    "import pprint\n",
    "import shlex\n",
    "import subprocess\n",
    "\n",
    "filePath = \"/home/xchen/GANs/WGAN-div-PyTorch-/samples/\"\n",
    "fileNAME = \"1204_mnist_matsumoto_1\"\n",
    "\n",
    "# fid_all_list(filePath)\n",
    "fid_one_list(filePath, fileNAME)\n"
   ]
  },
  {
   "cell_type": "code",
   "execution_count": 1,
   "metadata": {},
   "outputs": [],
   "source": [
    "import torch \n",
    "from models.wgan_div import Generator\n",
    "\n",
    "ckpt_path = \"/home/xchen/GANs/WGAN-div-PyTorch-/checkpoint/1216_cifar10_bs64_matsumoto_1/1500.pth.tar\"\n",
    "\n",
    "G = Generator().cuda()\n",
    "fixed_noise = torch.randn(10000, 100).cuda()\n",
    "\n",
    "torch.load(ckpt_path)\n",
    "\n",
    "fake_images = G(fixed_noise)"
   ]
  }
 ],
 "metadata": {
  "interpreter": {
   "hash": "74a93dc98ce132c7712e91561fec933a3a7586bb1208e240d679dc2b0a82ea21"
  },
  "kernelspec": {
   "display_name": "Python 3.7.10 64-bit ('base': conda)",
   "language": "python",
   "name": "python3"
  },
  "language_info": {
   "codemirror_mode": {
    "name": "ipython",
    "version": 3
   },
   "file_extension": ".py",
   "mimetype": "text/x-python",
   "name": "python",
   "nbconvert_exporter": "python",
   "pygments_lexer": "ipython3",
   "version": "3.7.10"
  },
  "orig_nbformat": 4
 },
 "nbformat": 4,
 "nbformat_minor": 2
}
